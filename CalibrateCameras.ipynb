{
 "cells": [
  {
   "cell_type": "markdown",
   "id": "4a25dbba-c7d8-4915-9b2b-99b2f40ac956",
   "metadata": {},
   "source": [
    "# Calibrate the two cameras"
   ]
  },
  {
   "cell_type": "code",
   "execution_count": 1,
   "id": "070aaef9-8905-48b2-a1c0-bade3634cb30",
   "metadata": {
    "tags": []
   },
   "outputs": [],
   "source": [
    "%load_ext autoreload\n",
    "%autoreload 2\n",
    "# from https://github.com/niconielsen32/ComputerVision/blob/master/cameraCalibration.py\n",
    "# modified\n",
    "import scipy\n",
    "import matplotlib.pyplot as plt\n",
    "import numpy as np\n",
    "import cv2 as cv\n",
    "import glob\n",
    "from src.calibrator import Calibrator\n",
    "\n",
    "img_path = 'assets/calibration_new/'\n",
    "np.set_printoptions(precision=9,suppress=True)\n",
    "\n",
    "################ FIND CHESSBOARD CORNERS - OBJECT POINTS AND IMAGE POINTS #############################\n",
    "\n",
    "chessboardSize = (7,5)\n",
    "frameSize = (3648,2736)\n",
    "#frameSize = (1600,1200)\n",
    "size_of_chessboard_squares_mm = 29.15\n",
    "\n",
    "# termination criteria\n",
    "criteria = (cv.TERM_CRITERIA_EPS + cv.TERM_CRITERIA_MAX_ITER, 30, 0.001)\n",
    "\n",
    "calibrator = Calibrator(img_path, file_selector='img-*.jpg', frameSize=(3648,2736), chessboardSize=(7,5), chessboard_square_mm=29.15)\n"
   ]
  },
  {
   "cell_type": "code",
   "execution_count": 2,
   "id": "11407869-45b2-4a38-b714-37ce1ae9a3d6",
   "metadata": {
    "tags": []
   },
   "outputs": [
    {
     "name": "stdout",
     "output_type": "stream",
     "text": [
      "True\n",
      "True\n",
      "True\n",
      "True\n",
      "True\n",
      "True\n",
      "True\n",
      "True\n",
      "True\n",
      "True\n",
      "\n",
      "Camera calibrated:  0.4178394466041499\n",
      "Camera Matrix:  [[2790.294372464    0.          1827.292165548]\n",
      " [   0.          2794.318008548 1402.015525105]\n",
      " [   0.             0.             1.         ]]\n",
      "Distortion Parameters:  [[ 0.276835049 -2.987342034  0.000200696  0.000459854  6.718396197]]\n",
      "Rotation Vectors:  (array([[-0.741706646],\n",
      "       [-0.008120225],\n",
      "       [-0.182648646]]), array([[-0.689999998],\n",
      "       [-0.0743859  ],\n",
      "       [-0.096006657]]), array([[-0.624043789],\n",
      "       [-0.097631426],\n",
      "       [-0.298053018]]), array([[-0.761454365],\n",
      "       [ 0.475764108],\n",
      "       [ 1.298924242]]), array([[-0.205764957],\n",
      "       [ 0.42302761 ],\n",
      "       [ 1.380929914]]), array([[-0.38922491 ],\n",
      "       [ 0.516165039],\n",
      "       [ 1.495358733]]), array([[-0.502829282],\n",
      "       [ 0.020669438],\n",
      "       [-0.270155395]]), array([[-0.631370066],\n",
      "       [ 0.225574234],\n",
      "       [ 0.904118162]]), array([[-0.316729012],\n",
      "       [ 0.553199823],\n",
      "       [ 1.602964387]]), array([[-0.481109249],\n",
      "       [ 0.147693592],\n",
      "       [ 0.626032156]]))\n",
      "Translation Vectors:  (array([[-17.026144243],\n",
      "       [-74.302591474],\n",
      "       [703.826199336]]), array([[-153.1739043  ],\n",
      "       [-116.094223935],\n",
      "       [ 886.96221965 ]]), array([[ -86.255516527],\n",
      "       [-104.223389366],\n",
      "       [ 754.866840332]]), array([[  63.529797595],\n",
      "       [-173.975528371],\n",
      "       [ 843.000826879]]), array([[  63.325567531],\n",
      "       [-130.346584332],\n",
      "       [1130.541272018]]), array([[ 33.497846069],\n",
      "       [-98.188684372],\n",
      "       [895.172906205]]), array([[ -42.200945375],\n",
      "       [ -19.635616704],\n",
      "       [1020.55027304 ]]), array([[  76.533065013],\n",
      "       [-245.612503534],\n",
      "       [ 874.161477449]]), array([[  83.983100349],\n",
      "       [-168.90702503 ],\n",
      "       [ 997.162435971]]), array([[ -45.252527536],\n",
      "       [-215.90003101 ],\n",
      "       [1034.114107701]]))\n"
     ]
    }
   ],
   "source": [
    "cameraMatrix = calibrator.calibrate()\n",
    "K1 = K2 = cameraMatrix"
   ]
  },
  {
   "cell_type": "code",
   "execution_count": 3,
   "id": "742a07b0-832d-46b5-aa12-ae46dd3b374a",
   "metadata": {
    "tags": []
   },
   "outputs": [
    {
     "name": "stdout",
     "output_type": "stream",
     "text": [
      "P for img-*.jpg3\n",
      "[[   -650.164351044   -3128.494495281     956.319953208 1717675.643218846]\n",
      " [    906.042020235     -92.983881038    2990.702680135  695757.294986894]\n",
      " [     -0.701240357      -0.232316321       0.674011193     843.000826879]]\n",
      "P for img-*.jpg4\n",
      "[[   -382.254476596   -2536.676276716    2131.641228149 2242526.183899795]\n",
      " [   1956.707774324     666.187749349    2345.495519938 1220806.607190517]\n",
      " [     -0.406754642       0.103658779       0.907637328    1130.541272018]]\n"
     ]
    }
   ],
   "source": [
    "P, _ = calibrator.calculateProjection(3)\n",
    "Pp, _ = calibrator.calculateProjection(4)"
   ]
  },
  {
   "cell_type": "code",
   "execution_count": 5,
   "id": "87079ea6-70f8-472f-af90-ee972f6474b7",
   "metadata": {
    "tags": []
   },
   "outputs": [
    {
     "name": "stdout",
     "output_type": "stream",
     "text": [
      "Tcv [[-0.804530832]\n",
      " [-0.315021218]\n",
      " [ 0.503478332]\n",
      " [-0.001158604]]\n",
      "Tf [ -285755.101273007  1219855.823108599 -1365571.064576885]\n",
      "Sanity (P) [[   -650.164351044   -3128.494495281     956.319953208 1717675.643218846]\n",
      " [    906.042020235     -92.983881038    2990.702680135  695757.294986894]\n",
      " [     -0.701240357      -0.232316321       0.674011193     843.000826879]]\n",
      "Sanity (K) [[-6.501643510e+02 -3.128494495e+03  9.563199532e+02 -3.292638159e+09]\n",
      " [ 9.060420202e+02 -9.298388104e+01  2.990702680e+03  1.494113261e+09]\n",
      " [-7.012403572e-01 -2.323163209e-01  6.740111932e-01 -1.365571065e+06]]\n",
      "C [ 694.396761321  271.897241339 -434.55602837 ]\n",
      "Tcv [[ 0.499684477]\n",
      " [-0.027220456]\n",
      " [-0.865779245]\n",
      " [ 0.000877353]]\n",
      "Tf [-902389.315849882 2255973.057251637 -784584.490895945]\n",
      "Sanity (P) [[   -382.254476596   -2536.676276716    2131.641228149 2242526.183899795]\n",
      " [   1956.707774324     666.187749349    2345.495519938 1220806.607190517]\n",
      " [     -0.406754642       0.103658779       0.907637328    1130.541272018]]\n",
      "Sanity (K) [[-3.822544766e+02 -2.536676277e+03  2.131641228e+03 -3.951596923e+09]\n",
      " [ 1.956707774e+03  6.661877493e+02  2.345495520e+03  5.203906504e+09]\n",
      " [-4.067546418e-01  1.036587790e-01  9.076373279e-01 -7.845844909e+05]]\n",
      "C [ 569.536176908  -31.025647983 -986.807924393]\n",
      "[[2790.294372465   -0.          1827.292165548]\n",
      " [   0.          2794.318008548 1402.015525105]\n",
      " [   0.             0.             1.         ]]\n",
      "[[ 0.226215078 -0.969067898 -0.098661784]\n",
      " [ 0.676083353  0.08328587   0.732102974]\n",
      " [-0.701240357 -0.232316321  0.674011193]]\n",
      "[ 694.396761321  271.897241339 -434.55602837 ]\n",
      "x [124.860584412 302.922889321 552.251896023]\n",
      "y [-302.922889321  124.860584412  552.251896023]\n",
      "Rs [[ 0.194446654  0.471744887  0.860027477]\n",
      " [-0.471744887  0.194446654  0.860027477]\n",
      " [ 0.354362497 -0.851333583  0.386857016]]\n",
      "[[110.440864447]\n",
      " [648.438737238]\n",
      " [153.518130455]]\n",
      "[[ 752.573716025]\n",
      " [1123.390541856]\n",
      " [ 153.518130455]]\n",
      "Mrs [[   1190.087219599    -239.328084354    3106.630621922 2380424.681739758]\n",
      " [   -821.383509557    -650.237113821    2945.569807622 3354345.224024097]\n",
      " [      0.354362497      -0.851333583       0.386857016     153.518130455]]\n",
      "Mls [[   1190.087219599    -239.328084354    3106.630621922  588684.99960664 ]\n",
      " [   -821.383509557    -650.237113821    2945.569807622 2027178.843188919]\n",
      " [      0.354362497      -0.851333583       0.386857016     153.518130455]]\n",
      "TFusl [[   0.069754332    1.094735465 -347.33121687 ]\n",
      " [   0.055083581    0.553616707 1835.561965337]\n",
      " [   0.000310718    0.000161719   -0.584473117]]\n",
      "TFusr [[   0.32776257     0.796086036  595.769000364]\n",
      " [   0.368583695    0.095568113 2132.709803477]\n",
      " [   0.000338024    0.000111054   -0.654629544]]\n"
     ]
    },
    {
     "data": {
      "image/png": "[encoded data removed]",
      "text/plain": [
       "<Figure size 640x480 with 1 Axes>"
      ]
     },
     "metadata": {},
     "output_type": "display_data"
    }
   ],
   "source": [
    "def factorize(P):\n",
    "    M = P[:,0:3]\n",
    "    \n",
    "    out = cv.decomposeProjectionMatrix(P)\n",
    "    K,R,T = out[0],out[1],out[2]\n",
    "    K = K / K[2,2]\n",
    "    print(\"Tcv\", T)\n",
    "    T = R.dot(P[:,3])\n",
    "    print(\"Tf\", T)\n",
    "    \n",
    "    C = np.dot(-scipy.linalg.inv(M),P[:,3])\n",
    "    print(\"Sanity (P)\", P) \n",
    "    print(\"Sanity (K)\", K.dot(np.concatenate((R,T.reshape(-1,1)), axis=1)))\n",
    "    print(\"C\", C)\n",
    "    return(K,R,C)\n",
    "\n",
    "def plotLine(img, height, color):\n",
    "    cv.line(img, (0,height), (4600,height), color, 5)\n",
    "\n",
    "def fusiello(Mpl,Mpr, imgL_path, imgR_path, out_path=None):  \n",
    "    Kl,Rl,Cl = factorize(Mpl)\n",
    "    Kr,Rr,Cr = factorize(Mpr)\n",
    "    print(Kl)\n",
    "    print(Rl)\n",
    "    print(Cl)\n",
    "    x = Cl-Cr\n",
    "    y = np.array(x)\n",
    "    y[0]=-x[1]\n",
    "    y[1]=x[0]\n",
    "    z = np.cross(x,y)\n",
    "    print(\"x\", x)\n",
    "    print(\"y\", y)\n",
    "    x = x/np.linalg.norm(x)\n",
    "    y = y/np.linalg.norm(y)\n",
    "    z = z/np.linalg.norm(z)\n",
    "    Rs = np.array([x,y,z])\n",
    "    tls = -Rs.dot(Cl).reshape(-1,1)\n",
    "    trs = -Rs.dot(Cr).reshape(-1,1)\n",
    "    print(\"Rs\", Rs)\n",
    "    print(tls)\n",
    "    print(trs)\n",
    "    #print(Rs)\n",
    "    Ks = (Kl+Kr)/2\n",
    "    Ks[0,1]=0\n",
    "    Mls = Ks.dot(np.concatenate((Rs, tls), axis=1))\n",
    "    Mrs = Ks.dot(np.concatenate((Rs, trs), axis=1))\n",
    "    print(\"Mrs\",Mrs)\n",
    "    print(\"Mls\",Mls)\n",
    "    TFusl = Ks.dot(Rs).dot(np.linalg.inv(Kl.dot(Rl)))\n",
    "    TFusr = Ks.dot(Rs).dot(np.linalg.inv(Kr.dot(Rr)))\n",
    "    print(\"TFusl\",TFusl)\n",
    "    print(\"TFusr\",TFusr)\n",
    "    \n",
    "    imgL=cv.imread(imgL_path)\n",
    "    imgL = cv.resize(imgL,(1600,1200))\n",
    "    imgR=cv.imread(imgR_path)\n",
    "    imgR = cv.resize(imgR,(1600,1200))\n",
    "    \n",
    "    #cv.warpPerspective(imgL)\n",
    "    outL = cv.warpPerspective(imgL,TFusl,(2300,1800),flags=cv.INTER_LINEAR)\n",
    "    outR = cv.warpPerspective(imgR,TFusr,(2300,1800),flags=cv.INTER_LINEAR)\n",
    "    out = cv.hconcat([outL,outR])\n",
    "    plotLine(out, 600, (255, 0, 0))\n",
    "    plotLine(out, 750, (0, 0, 255))\n",
    "    plotLine(out, 1000, (0, 255, 0))\n",
    "    if(out_path):\n",
    "        cv.imwrite(out_path, out)\n",
    "    plt.imshow(out)\n",
    "    \n",
    "    \n",
    "fusiello(P, Pp, \"assets/calibration_new/img-02.jpg\", \"assets/calibration_new/img-03.jpg\", 'assets/fusiello.jpg')"
   ]
  },
  {
   "cell_type": "code",
   "execution_count": null,
   "id": "8a026e5e-1062-433f-b180-4d2adfce89a8",
   "metadata": {},
   "outputs": [],
   "source": []
  },
  {
   "cell_type": "code",
   "execution_count": 29,
   "id": "d9de34e7-41bd-4170-82ea-48a0dd03a2ef",
   "metadata": {},
   "outputs": [
    {
     "name": "stdout",
     "output_type": "stream",
     "text": [
      "P\n",
      " [[-2.07810101e+02 -9.57532647e+02  9.19420275e+02  4.99058538e+05]\n",
      " [ 6.41846643e+02  1.77844561e+02  9.33546842e+02  6.25080797e+05]\n",
      " [-3.98103114e-01  4.43355772e-03  9.17329959e-01  7.76363781e+02]]\n",
      "Pp\n",
      " [[ 6.12430486e+02 -9.29557380e+02  8.04197963e+02  9.98847541e+05]\n",
      " [ 8.35836177e+02  5.46965600e+02  6.29515656e+02  4.76432546e+05]\n",
      " [ 3.87999651e-04 -1.16635373e-01  9.93174727e-01  7.88766677e+02]]\n"
     ]
    }
   ],
   "source": [
    "Pp = np.array([[ 6.12430486e+02, -9.29557380e+02,  8.04197963e+02,\n",
    "         9.98847541e+05],\n",
    "       [ 8.35836177e+02,  5.46965600e+02,  6.29515656e+02,\n",
    "         4.76432546e+05],\n",
    "       [ 3.87999651e-04, -1.16635373e-01,  9.93174727e-01,\n",
    "         7.88766677e+02]])\n",
    "P = np.array([[-2.07810101e+02, -9.57532647e+02,  9.19420275e+02,\n",
    "         4.99058538e+05],\n",
    "       [ 6.41846643e+02,  1.77844561e+02,  9.33546842e+02,\n",
    "         6.25080797e+05],\n",
    "       [-3.98103114e-01,  4.43355772e-03,  9.17329959e-01,\n",
    "         7.76363781e+02]])\n",
    "\n",
    "\n",
    "\n",
    "print(\"P\\n\",P)\n",
    "print(\"Pp\\n\",Pp)"
   ]
  }
 ],
 "metadata": {
  "kernelspec": {
   "display_name": "Python 3 (ipykernel)",
   "language": "python",
   "name": "python3"
  },
  "language_info": {
   "codemirror_mode": {
    "name": "ipython",
    "version": 3
   },
   "file_extension": ".py",
   "mimetype": "text/x-python",
   "name": "python",
   "nbconvert_exporter": "python",
   "pygments_lexer": "ipython3",
   "version": "3.10.10"
  }
 },
 "nbformat": 4,
 "nbformat_minor": 5
}
